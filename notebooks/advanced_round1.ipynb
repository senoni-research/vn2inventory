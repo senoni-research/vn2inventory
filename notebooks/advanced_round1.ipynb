{
  "cells": [
    {
      "cell_type": "markdown",
      "metadata": {},
      "source": [
        "VN2 Advanced Round 1 — Model-based Ordering Notebook\n",
        "\n",
        "Purpose\n",
        "- Produce a model-based submission using per-SKU routing (SES/Croston/TBATS) and base-stock policy.\n",
        "- Keep the notebook focused: minimal demo, maximum actionability.\n",
        "\n",
        "Flow\n",
        "1) Setup and file handles\n",
        "2) Project imports (policy helpers)\n",
        "3) Load and reshape sales/availability\n",
        "4) Routing features (mean, zero_frac, season strength)\n",
        "5) Forecasters (SES, Croston-SBA, TBATS)\n",
        "6) Per-SKU routing → μ̂, σ̂ table (`demand_stats_modelled`)\n",
        "7) Build submission `orders_round1_advanced_modelled.csv`\n",
        "\n"
      ]
    },
    {
      "cell_type": "markdown",
      "metadata": {},
      "source": [
        "Global warning suppression (optional)\n",
        "\n",
        "- To keep outputs readable. Remove if you need warnings for debugging.\n",
        "\n"
      ]
    },
    {
      "cell_type": "code",
      "execution_count": 1,
      "metadata": {},
      "outputs": [],
      "source": [
        "import os, warnings\n",
        "os.environ[\"PYTHONWARNINGS\"] = \"ignore\"\n",
        "warnings.filterwarnings(\"ignore\")\n",
        "warnings.showwarning = lambda *args, **kwargs: None\n"
      ]
    },
    {
      "cell_type": "markdown",
      "metadata": {},
      "source": [
        "Setup and file handles\n",
        "\n",
        "- Imports core libraries, sets seaborn theme, defines `files` mapping for the five inputs.\n",
        "\n"
      ]
    },
    {
      "cell_type": "code",
      "execution_count": 2,
      "metadata": {},
      "outputs": [
        {
          "data": {
            "text/plain": [
              "{'initial': PosixPath('/Users/senoni/noni/vn2inventory/data/Week 0 - 2024-04-08 - Initial State.csv'),\n",
              " 'sales': PosixPath('/Users/senoni/noni/vn2inventory/data/Week 0 - 2024-04-08 - Sales.csv'),\n",
              " 'in_stock': PosixPath('/Users/senoni/noni/vn2inventory/data/Week 0 - In Stock.csv'),\n",
              " 'master': PosixPath('/Users/senoni/noni/vn2inventory/data/Week 0 - Master.csv'),\n",
              " 'template': PosixPath('/Users/senoni/noni/vn2inventory/data/Week 0 - Submission Template.csv')}"
            ]
          },
          "execution_count": 2,
          "metadata": {},
          "output_type": "execute_result"
        }
      ],
      "source": [
        "import pandas as pd\n",
        "import numpy as np\n",
        "from pathlib import Path\n",
        "import seaborn as sns\n",
        "sns.set_theme(style=\"whitegrid\")\n",
        "\n",
        "DATA_DIR = Path(\"../data\").resolve()\n",
        "files = {\n",
        "    \"initial\": DATA_DIR / \"Week 0 - 2024-04-08 - Initial State.csv\",\n",
        "    \"sales\": DATA_DIR / \"Week 0 - 2024-04-08 - Sales.csv\",\n",
        "    \"in_stock\": DATA_DIR / \"Week 0 - In Stock.csv\",\n",
        "    \"master\": DATA_DIR / \"Week 0 - Master.csv\",\n",
        "    \"template\": DATA_DIR / \"Week 0 - Submission Template.csv\",\n",
        "}\n",
        "files\n"
      ]
    },
    {
      "cell_type": "markdown",
      "metadata": {},
      "source": [
        "Project imports\n",
        "\n",
        "- Adds project root to `sys.path` and imports policy helpers used for base-stock computation.\n",
        "\n"
      ]
    },
    {
      "cell_type": "code",
      "execution_count": 3,
      "metadata": {},
      "outputs": [],
      "source": [
        "import sys\n",
        "PROJECT_ROOT = Path(\"..\").resolve()\n",
        "if str(PROJECT_ROOT) not in sys.path:\n",
        "    sys.path.insert(0, str(PROJECT_ROOT))\n",
        "from vn2inventory.policy import compute_orders, _inv_normal_cdf\n"
      ]
    },
    {
      "cell_type": "markdown",
      "metadata": {},
      "source": [
        "Load and reshape inputs\n",
        "\n",
        "- Reads wide sales/availability, melts to long format, coerces types.\n",
        "\n"
      ]
    },
    {
      "cell_type": "code",
      "execution_count": 4,
      "metadata": {},
      "outputs": [
        {
          "data": {
            "text/plain": [
              "(   Store  Product        Week  SalesQty\n",
              " 0      0      126  2021-04-12       0.0\n",
              " 1      0      182  2021-04-12       0.0\n",
              " 2      1      124  2021-04-12      13.0\n",
              " 3      2      124  2021-04-12       5.0\n",
              " 4      2      126  2021-04-12       0.0,\n",
              "    Store  Product        Week  InStock\n",
              " 0      0      126  2021-04-12     True\n",
              " 1      0      182  2021-04-12    False\n",
              " 2      1      124  2021-04-12     True\n",
              " 3      2      124  2021-04-12     True\n",
              " 4      2      126  2021-04-12    False)"
            ]
          },
          "execution_count": 4,
          "metadata": {},
          "output_type": "execute_result"
        }
      ],
      "source": [
        "sales_wide = pd.read_csv(files[\"sales\"])  \n",
        "avail_wide = pd.read_csv(files[\"in_stock\"]) \n",
        "\n",
        "id_cols = [\"Store\",\"Product\"]\n",
        "sales_long = sales_wide.melt(id_vars=id_cols, var_name=\"Week\", value_name=\"SalesQty\")\n",
        "sales_long[\"SalesQty\"] = pd.to_numeric(sales_long[\"SalesQty\"], errors=\"coerce\").fillna(0.0)\n",
        "\n",
        "avail_long = avail_wide.melt(id_vars=id_cols, var_name=\"Week\", value_name=\"InStock\")\n",
        "avail_long[\"InStock\"] = avail_long[\"InStock\"].astype(str).str.lower().map({\"true\": True, \"false\": False})\n",
        "\n",
        "sales_long.head(), avail_long.head()\n"
      ]
    },
    {
      "cell_type": "markdown",
      "metadata": {},
      "source": [
        "Routing features and thresholds\n",
        "\n",
        "- Compute per-SKU features for model routing: `mean`, `zero_frac`, `season_strength` (STL, period=52), `length`.\n",
        "- Thresholds (tune as needed): ZERO_FRAC_THR=0.5, LOW_MEAN_THR=1.5, SEASON_STRENGTH_THR=0.3, MIN_LEN_TBATS=60.\n",
        "\n"
      ]
    },
    {
      "cell_type": "code",
      "execution_count": 5,
      "metadata": {},
      "outputs": [
        {
          "data": {
            "text/html": [
              "<div>\n",
              "<style scoped>\n",
              "    .dataframe tbody tr th:only-of-type {\n",
              "        vertical-align: middle;\n",
              "    }\n",
              "\n",
              "    .dataframe tbody tr th {\n",
              "        vertical-align: top;\n",
              "    }\n",
              "\n",
              "    .dataframe thead th {\n",
              "        text-align: right;\n",
              "    }\n",
              "</style>\n",
              "<table border=\"1\" class=\"dataframe\">\n",
              "  <thead>\n",
              "    <tr style=\"text-align: right;\">\n",
              "      <th></th>\n",
              "      <th></th>\n",
              "      <th>mean</th>\n",
              "      <th>zero_frac</th>\n",
              "      <th>season_strength</th>\n",
              "      <th>length</th>\n",
              "    </tr>\n",
              "    <tr>\n",
              "      <th>Store</th>\n",
              "      <th>Product</th>\n",
              "      <th></th>\n",
              "      <th></th>\n",
              "      <th></th>\n",
              "      <th></th>\n",
              "    </tr>\n",
              "  </thead>\n",
              "  <tbody>\n",
              "    <tr>\n",
              "      <th rowspan=\"2\" valign=\"top\">0</th>\n",
              "      <th>126</th>\n",
              "      <td>2.076433</td>\n",
              "      <td>0.464968</td>\n",
              "      <td>0.745242</td>\n",
              "      <td>157</td>\n",
              "    </tr>\n",
              "    <tr>\n",
              "      <th>182</th>\n",
              "      <td>0.643312</td>\n",
              "      <td>0.585987</td>\n",
              "      <td>0.679455</td>\n",
              "      <td>157</td>\n",
              "    </tr>\n",
              "    <tr>\n",
              "      <th>1</th>\n",
              "      <th>124</th>\n",
              "      <td>5.299363</td>\n",
              "      <td>0.235669</td>\n",
              "      <td>0.672974</td>\n",
              "      <td>157</td>\n",
              "    </tr>\n",
              "    <tr>\n",
              "      <th rowspan=\"2\" valign=\"top\">2</th>\n",
              "      <th>124</th>\n",
              "      <td>9.273885</td>\n",
              "      <td>0.000000</td>\n",
              "      <td>0.944765</td>\n",
              "      <td>157</td>\n",
              "    </tr>\n",
              "    <tr>\n",
              "      <th>126</th>\n",
              "      <td>2.433121</td>\n",
              "      <td>0.420382</td>\n",
              "      <td>0.828707</td>\n",
              "      <td>157</td>\n",
              "    </tr>\n",
              "  </tbody>\n",
              "</table>\n",
              "</div>"
            ],
            "text/plain": [
              "                   mean  zero_frac  season_strength  length\n",
              "Store Product                                              \n",
              "0     126      2.076433   0.464968         0.745242     157\n",
              "      182      0.643312   0.585987         0.679455     157\n",
              "1     124      5.299363   0.235669         0.672974     157\n",
              "2     124      9.273885   0.000000         0.944765     157\n",
              "      126      2.433121   0.420382         0.828707     157"
            ]
          },
          "execution_count": 5,
          "metadata": {},
          "output_type": "execute_result"
        }
      ],
      "source": [
        "from statsmodels.tsa.seasonal import STL\n",
        "\n",
        "ZERO_FRAC_THR = 0.5\n",
        "LOW_MEAN_THR = 1.5\n",
        "SEASON_STRENGTH_THR = 0.3\n",
        "MIN_LEN_TBATS = 60\n",
        "\n",
        "series_list = []\n",
        "for (s,p), g in sales_long.groupby([\"Store\",\"Product\"]):\n",
        "    y = g.set_index(\"Week\")[\"SalesQty\"].astype(float)\n",
        "    y.index = pd.to_datetime(y.index)\n",
        "    y = y.asfreq(\"W-MON\", fill_value=0.0)\n",
        "    zero_frac = (y == 0).mean()\n",
        "    mean_y = y.mean()\n",
        "    seas_strength = 0.0\n",
        "    try:\n",
        "        if len(y) >= MIN_LEN_TBATS:\n",
        "            seas_strength = STL(y, period=52, robust=True).fit().seasonal.var() / (y.var() + 1e-9)\n",
        "    except Exception:\n",
        "        seas_strength = 0.0\n",
        "    series_list.append({\n",
        "        \"Store\": s, \"Product\": p,\n",
        "        \"mean\": float(mean_y), \"zero_frac\": float(zero_frac), \"season_strength\": float(seas_strength),\n",
        "        \"length\": int(len(y))\n",
        "    })\n",
        "\n",
        "features_df = pd.DataFrame(series_list).set_index([\"Store\",\"Product\"])  \n",
        "features_df.head()\n"
      ]
    },
    {
      "cell_type": "markdown",
      "metadata": {},
      "source": [
        "Forecasters for routing\n",
        "\n",
        "- SES: general-purpose smoother\n",
        "- Croston-SBA: intermittent demand\n",
        "- TBATS: seasonal/high-volume (used selectively)\n",
        "\n"
      ]
    },
    {
      "cell_type": "code",
      "execution_count": 6,
      "metadata": {},
      "outputs": [],
      "source": [
        "from statsmodels.tsa.holtwinters import SimpleExpSmoothing\n",
        "from tbats import TBATS\n",
        "\n",
        "\n",
        "def fc_naive_last(train: pd.Series, horizon: int) -> np.ndarray:\n",
        "    return np.repeat(train.iloc[-1] if len(train) else 0.0, horizon)\n",
        "\n",
        "\n",
        "def fc_ses(train: pd.Series, horizon: int) -> np.ndarray:\n",
        "    if len(train) < 2:\n",
        "        return fc_naive_last(train, horizon)\n",
        "    model = SimpleExpSmoothing(train.astype(float)).fit(optimized=True)\n",
        "    return model.forecast(horizon).values\n",
        "\n",
        "\n",
        "def fc_croston_sba(train: pd.Series, horizon: int) -> np.ndarray:\n",
        "    y = train.values.astype(float)\n",
        "    alpha = 0.1\n",
        "    z, p = 0.0, 0.0\n",
        "    q = 0\n",
        "    for v in y:\n",
        "        if v > 0:\n",
        "            if z == 0:\n",
        "                z = v\n",
        "                p = 1\n",
        "            else:\n",
        "                z = alpha * v + (1 - alpha) * z\n",
        "                p = alpha * (q + 1) + (1 - alpha) * p\n",
        "            q = 0\n",
        "        else:\n",
        "            q += 1\n",
        "    rate = z / p if p > 0 else 0.0\n",
        "    return np.repeat(rate * (1 - alpha / 2), horizon)\n",
        "\n",
        "\n",
        "def fc_tbats(train: pd.Series, horizon: int) -> np.ndarray:\n",
        "    y = train.astype(float).values\n",
        "    if len(y) < 10:\n",
        "        return fc_naive_last(train, horizon)\n",
        "    estimator = TBATS(use_arma_errors=False, use_box_cox=False)\n",
        "    with warnings.catch_warnings():\n",
        "        warnings.simplefilter(\"ignore\", FutureWarning)\n",
        "        model = estimator.fit(y)\n",
        "        fc = model.forecast(steps=horizon)\n",
        "    return np.asarray(fc, dtype=float)\n",
        "\n"
      ]
    },
    {
      "cell_type": "markdown",
      "metadata": {},
      "source": [
        "Per-SKU routing to forecasts and uncertainty\n",
        "\n",
        "- For each `(Store, Product)`, select a model using features in `features_df`.\n",
        "- Estimate weekly mean demand (μ̂) and uncertainty (σ̂) for use in the base-stock policy.\n",
        "- Output: `demand_stats_modelled` with `mean_demand`, `std_demand`, and `model`.\n"
      ]
    },
    {
      "cell_type": "code",
      "execution_count": 7,
      "metadata": {},
      "outputs": [
        {
          "data": {
            "text/html": [
              "<div>\n",
              "<style scoped>\n",
              "    .dataframe tbody tr th:only-of-type {\n",
              "        vertical-align: middle;\n",
              "    }\n",
              "\n",
              "    .dataframe tbody tr th {\n",
              "        vertical-align: top;\n",
              "    }\n",
              "\n",
              "    .dataframe thead th {\n",
              "        text-align: right;\n",
              "    }\n",
              "</style>\n",
              "<table border=\"1\" class=\"dataframe\">\n",
              "  <thead>\n",
              "    <tr style=\"text-align: right;\">\n",
              "      <th></th>\n",
              "      <th></th>\n",
              "      <th>model</th>\n",
              "      <th>mean_demand</th>\n",
              "      <th>std_demand</th>\n",
              "    </tr>\n",
              "    <tr>\n",
              "      <th>Store</th>\n",
              "      <th>Product</th>\n",
              "      <th></th>\n",
              "      <th></th>\n",
              "      <th></th>\n",
              "    </tr>\n",
              "  </thead>\n",
              "  <tbody>\n",
              "    <tr>\n",
              "      <th rowspan=\"2\" valign=\"top\">0</th>\n",
              "      <th>126</th>\n",
              "      <td>ses</td>\n",
              "      <td>1.144080</td>\n",
              "      <td>2.424456</td>\n",
              "    </tr>\n",
              "    <tr>\n",
              "      <th>182</th>\n",
              "      <td>croston</td>\n",
              "      <td>0.643312</td>\n",
              "      <td>0.933787</td>\n",
              "    </tr>\n",
              "    <tr>\n",
              "      <th>1</th>\n",
              "      <th>124</th>\n",
              "      <td>tbats</td>\n",
              "      <td>7.849874</td>\n",
              "      <td>4.346528</td>\n",
              "    </tr>\n",
              "    <tr>\n",
              "      <th rowspan=\"2\" valign=\"top\">2</th>\n",
              "      <th>124</th>\n",
              "      <td>tbats</td>\n",
              "      <td>8.537111</td>\n",
              "      <td>4.553976</td>\n",
              "    </tr>\n",
              "    <tr>\n",
              "      <th>126</th>\n",
              "      <td>ses</td>\n",
              "      <td>1.910470</td>\n",
              "      <td>3.114283</td>\n",
              "    </tr>\n",
              "  </tbody>\n",
              "</table>\n",
              "</div>"
            ],
            "text/plain": [
              "                 model  mean_demand  std_demand\n",
              "Store Product                                  \n",
              "0     126          ses     1.144080    2.424456\n",
              "      182      croston     0.643312    0.933787\n",
              "1     124        tbats     7.849874    4.346528\n",
              "2     124        tbats     8.537111    4.553976\n",
              "      126          ses     1.910470    3.114283"
            ]
          },
          "execution_count": 7,
          "metadata": {},
          "output_type": "execute_result"
        }
      ],
      "source": [
        "rows = []\n",
        "for (s,p), g in sales_long.groupby([\"Store\",\"Product\"]):\n",
        "    y = g.set_index(\"Week\")[\"SalesQty\"].astype(float)\n",
        "    y.index = pd.to_datetime(y.index)\n",
        "    y = y.asfreq(\"W-MON\", fill_value=0.0)\n",
        "    feat = features_df.loc[(s,p)]\n",
        "\n",
        "    # Routing\n",
        "    if feat[\"zero_frac\"] >= ZERO_FRAC_THR and feat[\"mean\"] < LOW_MEAN_THR:\n",
        "        model_name = \"croston\"\n",
        "        mu = float(y.mean())  # keep central demand level for intermittent\n",
        "        res = y - mu\n",
        "    elif feat[\"season_strength\"] >= SEASON_STRENGTH_THR and feat[\"mean\"] >= 3 and feat[\"length\"] >= MIN_LEN_TBATS:\n",
        "        model_name = \"tbats\"\n",
        "        try:\n",
        "            est = TBATS(use_arma_errors=False, use_box_cox=False)\n",
        "            with warnings.catch_warnings():\n",
        "                warnings.simplefilter(\"ignore\", FutureWarning)\n",
        "                mdl = est.fit(y.values)\n",
        "                fc = mdl.forecast(steps=4)\n",
        "            mu = float(np.mean(fc))\n",
        "            res = y - pd.Series(mdl.y_hat, index=y.index)\n",
        "        except Exception:\n",
        "            model_name = \"ses_fallback\"\n",
        "            mdl = SimpleExpSmoothing(y).fit(optimized=True)\n",
        "            fc = mdl.forecast(4)\n",
        "            mu = float(np.mean(fc))\n",
        "            res = y - mdl.fittedvalues\n",
        "    else:\n",
        "        model_name = \"ses\"\n",
        "        mdl = SimpleExpSmoothing(y).fit(optimized=True)\n",
        "        fc = mdl.forecast(4)\n",
        "        mu = float(np.mean(fc))\n",
        "        res = y - mdl.fittedvalues\n",
        "\n",
        "    sigma = float(np.std(res.dropna(), ddof=1)) if res.notna().any() else float(np.std(y, ddof=1))\n",
        "    rows.append({\"Store\": s, \"Product\": p, \"model\": model_name, \"mean_demand\": mu, \"std_demand\": sigma})\n",
        "\n",
        "demand_stats_modelled = pd.DataFrame(rows).set_index([\"Store\",\"Product\"])  \n",
        "demand_stats_modelled.head()\n"
      ]
    },
    {
      "cell_type": "markdown",
      "metadata": {},
      "source": [
        "Build submission\n",
        "\n",
        "- Align to the platform index (Submission Template)\n",
        "- Build current state from Initial State (`on_hand = End Inventory`, `on_order = W+1 + W+2`)\n",
        "- Call base-stock policy with `demand_stats_modelled` and write `submissions/orders_round1_advanced_modelled.csv`\n",
        "\n"
      ]
    },
    {
      "cell_type": "code",
      "execution_count": 8,
      "metadata": {},
      "outputs": [
        {
          "data": {
            "text/plain": [
              "PosixPath('/Users/senoni/noni/vn2inventory/submissions/orders_round1_advanced_modelled.csv')"
            ]
          },
          "execution_count": 8,
          "metadata": {},
          "output_type": "execute_result"
        }
      ],
      "source": [
        "from pathlib import Path as _P\n",
        "\n",
        "index_df = pd.read_csv(files['template'])[['Store','Product']].set_index(['Store','Product'])\n",
        "init = pd.read_csv(files['initial'])\n",
        "state = init[[\"Store\",\"Product\",\"End Inventory\",\"In Transit W+1\",\"In Transit W+2\"]].copy()\n",
        "state.rename(columns={\"End Inventory\":\"on_hand\"}, inplace=True)\n",
        "state['on_order'] = state[[\"In Transit W+1\",\"In Transit W+2\"]].sum(axis=1)\n",
        "state = state[[\"Store\",\"Product\",\"on_hand\",\"on_order\"]].set_index([\"Store\",\"Product\"])  \n",
        "\n",
        "orders = compute_orders(\n",
        "    index_df=index_df,\n",
        "    demand_stats=demand_stats_modelled,\n",
        "    current_state=state,\n",
        "    lead_time_weeks=2,\n",
        "    review_period_weeks=1,\n",
        "    shortage_cost_per_unit=1.0,\n",
        "    holding_cost_per_unit_per_week=0.2,\n",
        ")\n",
        "\n",
        "SUB = _P(\"../submissions\").resolve(); SUB.mkdir(exist_ok=True)\n",
        "submission = index_df.copy(); submission['order_qty'] = orders.values\n",
        "out_path = SUB / \"orders_round1_advanced_modelled.csv\"\n",
        "submission.to_csv(out_path)\n",
        "out_path\n"
      ]
    },
    {
      "cell_type": "markdown",
      "metadata": {},
      "source": []
    }
  ],
  "metadata": {
    "language_info": {
      "name": "python"
    }
  },
  "nbformat": 4,
  "nbformat_minor": 2
}
